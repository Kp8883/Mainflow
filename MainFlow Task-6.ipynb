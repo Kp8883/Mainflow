{
 "cells": [
  {
   "cell_type": "code",
   "execution_count": 1,
   "id": "869b2b67-93d6-499b-bee4-e1fe4fb23e18",
   "metadata": {},
   "outputs": [],
   "source": [
    "import pandas as pd\n",
    "import numpy as np\n",
    "import matplotlib.pyplot as plt\n",
    "import seaborn as sns\n",
    "from datetime import datetime"
   ]
  },
  {
   "cell_type": "code",
   "execution_count": 2,
   "id": "bb2c0304-3984-4be8-987e-04508f83124a",
   "metadata": {},
   "outputs": [],
   "source": [
    "df=pd.read_csv('C:\\\\Users\\\\kp210\\\\Downloads\\\\disney_plus_titles.csv')"
   ]
  },
  {
   "cell_type": "code",
   "execution_count": 3,
   "id": "a5fc8b4e-4ab4-4492-a1e9-f3ca74791926",
   "metadata": {},
   "outputs": [
    {
     "data": {
      "text/html": [
       "<div>\n",
       "<style scoped>\n",
       "    .dataframe tbody tr th:only-of-type {\n",
       "        vertical-align: middle;\n",
       "    }\n",
       "\n",
       "    .dataframe tbody tr th {\n",
       "        vertical-align: top;\n",
       "    }\n",
       "\n",
       "    .dataframe thead th {\n",
       "        text-align: right;\n",
       "    }\n",
       "</style>\n",
       "<table border=\"1\" class=\"dataframe\">\n",
       "  <thead>\n",
       "    <tr style=\"text-align: right;\">\n",
       "      <th></th>\n",
       "      <th>show_id</th>\n",
       "      <th>type</th>\n",
       "      <th>title</th>\n",
       "      <th>director</th>\n",
       "      <th>cast</th>\n",
       "      <th>country</th>\n",
       "      <th>date_added</th>\n",
       "      <th>release_year</th>\n",
       "      <th>rating</th>\n",
       "      <th>duration</th>\n",
       "      <th>listed_in</th>\n",
       "      <th>description</th>\n",
       "    </tr>\n",
       "  </thead>\n",
       "  <tbody>\n",
       "    <tr>\n",
       "      <th>0</th>\n",
       "      <td>s1</td>\n",
       "      <td>Movie</td>\n",
       "      <td>A Spark Story</td>\n",
       "      <td>Jason Sterman, Leanne Dare</td>\n",
       "      <td>Apthon Corbin, Louis Gonzales</td>\n",
       "      <td>NaN</td>\n",
       "      <td>September 24, 2021</td>\n",
       "      <td>2021</td>\n",
       "      <td>TV-PG</td>\n",
       "      <td>88 min</td>\n",
       "      <td>Documentary</td>\n",
       "      <td>Two Pixar filmmakers strive to bring their uni...</td>\n",
       "    </tr>\n",
       "    <tr>\n",
       "      <th>1</th>\n",
       "      <td>s2</td>\n",
       "      <td>Movie</td>\n",
       "      <td>Spooky Buddies</td>\n",
       "      <td>Robert Vince</td>\n",
       "      <td>Tucker Albrizzi, Diedrich Bader, Ameko Eks Mas...</td>\n",
       "      <td>United States, Canada</td>\n",
       "      <td>September 24, 2021</td>\n",
       "      <td>2011</td>\n",
       "      <td>G</td>\n",
       "      <td>93 min</td>\n",
       "      <td>Comedy, Fantasy, Kids</td>\n",
       "      <td>The puppies go on a spooky adventure through a...</td>\n",
       "    </tr>\n",
       "    <tr>\n",
       "      <th>2</th>\n",
       "      <td>s3</td>\n",
       "      <td>Movie</td>\n",
       "      <td>The Fault in Our Stars</td>\n",
       "      <td>Josh Boone</td>\n",
       "      <td>Shailene Woodley, Ansel Elgort, Laura Dern, Sa...</td>\n",
       "      <td>United States</td>\n",
       "      <td>September 24, 2021</td>\n",
       "      <td>2014</td>\n",
       "      <td>PG-13</td>\n",
       "      <td>127 min</td>\n",
       "      <td>Coming of Age, Drama, Romance</td>\n",
       "      <td>Hazel and Gus share a love that sweeps them on...</td>\n",
       "    </tr>\n",
       "    <tr>\n",
       "      <th>3</th>\n",
       "      <td>s4</td>\n",
       "      <td>TV Show</td>\n",
       "      <td>Dog: Impossible</td>\n",
       "      <td>NaN</td>\n",
       "      <td>Matt Beisner</td>\n",
       "      <td>United States</td>\n",
       "      <td>September 22, 2021</td>\n",
       "      <td>2019</td>\n",
       "      <td>TV-PG</td>\n",
       "      <td>2 Seasons</td>\n",
       "      <td>Animals &amp; Nature, Docuseries, Family</td>\n",
       "      <td>Matt Beisner uses unique approaches to modifyi...</td>\n",
       "    </tr>\n",
       "    <tr>\n",
       "      <th>4</th>\n",
       "      <td>s5</td>\n",
       "      <td>TV Show</td>\n",
       "      <td>Spidey And His Amazing Friends</td>\n",
       "      <td>NaN</td>\n",
       "      <td>Benjamin Valic, Lily Sanfelippo, Jakari Fraser...</td>\n",
       "      <td>United States</td>\n",
       "      <td>September 22, 2021</td>\n",
       "      <td>2021</td>\n",
       "      <td>TV-Y</td>\n",
       "      <td>1 Season</td>\n",
       "      <td>Action-Adventure, Animation, Kids</td>\n",
       "      <td>Spidey teams up with pals to become The Spidey...</td>\n",
       "    </tr>\n",
       "  </tbody>\n",
       "</table>\n",
       "</div>"
      ],
      "text/plain": [
       "  show_id     type                           title  \\\n",
       "0      s1    Movie                   A Spark Story   \n",
       "1      s2    Movie                  Spooky Buddies   \n",
       "2      s3    Movie          The Fault in Our Stars   \n",
       "3      s4  TV Show                 Dog: Impossible   \n",
       "4      s5  TV Show  Spidey And His Amazing Friends   \n",
       "\n",
       "                     director  \\\n",
       "0  Jason Sterman, Leanne Dare   \n",
       "1                Robert Vince   \n",
       "2                  Josh Boone   \n",
       "3                         NaN   \n",
       "4                         NaN   \n",
       "\n",
       "                                                cast                country  \\\n",
       "0                      Apthon Corbin, Louis Gonzales                    NaN   \n",
       "1  Tucker Albrizzi, Diedrich Bader, Ameko Eks Mas...  United States, Canada   \n",
       "2  Shailene Woodley, Ansel Elgort, Laura Dern, Sa...          United States   \n",
       "3                                       Matt Beisner          United States   \n",
       "4  Benjamin Valic, Lily Sanfelippo, Jakari Fraser...          United States   \n",
       "\n",
       "           date_added  release_year rating   duration  \\\n",
       "0  September 24, 2021          2021  TV-PG     88 min   \n",
       "1  September 24, 2021          2011      G     93 min   \n",
       "2  September 24, 2021          2014  PG-13    127 min   \n",
       "3  September 22, 2021          2019  TV-PG  2 Seasons   \n",
       "4  September 22, 2021          2021   TV-Y   1 Season   \n",
       "\n",
       "                              listed_in  \\\n",
       "0                           Documentary   \n",
       "1                 Comedy, Fantasy, Kids   \n",
       "2         Coming of Age, Drama, Romance   \n",
       "3  Animals & Nature, Docuseries, Family   \n",
       "4     Action-Adventure, Animation, Kids   \n",
       "\n",
       "                                         description  \n",
       "0  Two Pixar filmmakers strive to bring their uni...  \n",
       "1  The puppies go on a spooky adventure through a...  \n",
       "2  Hazel and Gus share a love that sweeps them on...  \n",
       "3  Matt Beisner uses unique approaches to modifyi...  \n",
       "4  Spidey teams up with pals to become The Spidey...  "
      ]
     },
     "execution_count": 3,
     "metadata": {},
     "output_type": "execute_result"
    }
   ],
   "source": [
    "df.head(5)"
   ]
  },
  {
   "cell_type": "code",
   "execution_count": 4,
   "id": "bf9e3c52-03af-4a2f-ac28-c56940067828",
   "metadata": {},
   "outputs": [
    {
     "data": {
      "text/plain": [
       "(1368, 12)"
      ]
     },
     "execution_count": 4,
     "metadata": {},
     "output_type": "execute_result"
    }
   ],
   "source": [
    "df.shape"
   ]
  },
  {
   "cell_type": "code",
   "execution_count": 5,
   "id": "2b78da6b-3aa9-48b6-8b3b-2e4dea74f8d9",
   "metadata": {},
   "outputs": [],
   "source": [
    "df=df.drop_duplicates()"
   ]
  },
  {
   "cell_type": "code",
   "execution_count": 6,
   "id": "782ce31a-55b3-4d12-9e09-16b411f6ef4e",
   "metadata": {},
   "outputs": [
    {
     "data": {
      "text/plain": [
       "(1368, 12)"
      ]
     },
     "execution_count": 6,
     "metadata": {},
     "output_type": "execute_result"
    }
   ],
   "source": [
    "df.shape"
   ]
  },
  {
   "cell_type": "code",
   "execution_count": 7,
   "id": "13b0c99f-bbd1-4e68-9055-c886e3a28517",
   "metadata": {},
   "outputs": [
    {
     "data": {
      "text/html": [
       "<div>\n",
       "<style scoped>\n",
       "    .dataframe tbody tr th:only-of-type {\n",
       "        vertical-align: middle;\n",
       "    }\n",
       "\n",
       "    .dataframe tbody tr th {\n",
       "        vertical-align: top;\n",
       "    }\n",
       "\n",
       "    .dataframe thead th {\n",
       "        text-align: right;\n",
       "    }\n",
       "</style>\n",
       "<table border=\"1\" class=\"dataframe\">\n",
       "  <thead>\n",
       "    <tr style=\"text-align: right;\">\n",
       "      <th></th>\n",
       "      <th>show_id</th>\n",
       "      <th>type</th>\n",
       "      <th>title</th>\n",
       "      <th>director</th>\n",
       "      <th>cast</th>\n",
       "      <th>country</th>\n",
       "      <th>date_added</th>\n",
       "      <th>release_year</th>\n",
       "      <th>rating</th>\n",
       "      <th>duration</th>\n",
       "      <th>listed_in</th>\n",
       "      <th>description</th>\n",
       "    </tr>\n",
       "  </thead>\n",
       "  <tbody>\n",
       "    <tr>\n",
       "      <th>1</th>\n",
       "      <td>s2</td>\n",
       "      <td>Movie</td>\n",
       "      <td>Spooky Buddies</td>\n",
       "      <td>Robert Vince</td>\n",
       "      <td>Tucker Albrizzi, Diedrich Bader, Ameko Eks Mas...</td>\n",
       "      <td>United States, Canada</td>\n",
       "      <td>September 24, 2021</td>\n",
       "      <td>2011</td>\n",
       "      <td>G</td>\n",
       "      <td>93 min</td>\n",
       "      <td>Comedy, Fantasy, Kids</td>\n",
       "      <td>The puppies go on a spooky adventure through a...</td>\n",
       "    </tr>\n",
       "    <tr>\n",
       "      <th>2</th>\n",
       "      <td>s3</td>\n",
       "      <td>Movie</td>\n",
       "      <td>The Fault in Our Stars</td>\n",
       "      <td>Josh Boone</td>\n",
       "      <td>Shailene Woodley, Ansel Elgort, Laura Dern, Sa...</td>\n",
       "      <td>United States</td>\n",
       "      <td>September 24, 2021</td>\n",
       "      <td>2014</td>\n",
       "      <td>PG-13</td>\n",
       "      <td>127 min</td>\n",
       "      <td>Coming of Age, Drama, Romance</td>\n",
       "      <td>Hazel and Gus share a love that sweeps them on...</td>\n",
       "    </tr>\n",
       "    <tr>\n",
       "      <th>3</th>\n",
       "      <td>s4</td>\n",
       "      <td>TV Show</td>\n",
       "      <td>Dog: Impossible</td>\n",
       "      <td>NaN</td>\n",
       "      <td>Matt Beisner</td>\n",
       "      <td>United States</td>\n",
       "      <td>September 22, 2021</td>\n",
       "      <td>2019</td>\n",
       "      <td>TV-PG</td>\n",
       "      <td>2 Seasons</td>\n",
       "      <td>Animals &amp; Nature, Docuseries, Family</td>\n",
       "      <td>Matt Beisner uses unique approaches to modifyi...</td>\n",
       "    </tr>\n",
       "    <tr>\n",
       "      <th>4</th>\n",
       "      <td>s5</td>\n",
       "      <td>TV Show</td>\n",
       "      <td>Spidey And His Amazing Friends</td>\n",
       "      <td>NaN</td>\n",
       "      <td>Benjamin Valic, Lily Sanfelippo, Jakari Fraser...</td>\n",
       "      <td>United States</td>\n",
       "      <td>September 22, 2021</td>\n",
       "      <td>2021</td>\n",
       "      <td>TV-Y</td>\n",
       "      <td>1 Season</td>\n",
       "      <td>Action-Adventure, Animation, Kids</td>\n",
       "      <td>Spidey teams up with pals to become The Spidey...</td>\n",
       "    </tr>\n",
       "    <tr>\n",
       "      <th>6</th>\n",
       "      <td>s7</td>\n",
       "      <td>Movie</td>\n",
       "      <td>Confessions of a Shopaholic</td>\n",
       "      <td>P.J. Hogan</td>\n",
       "      <td>Isla Fisher, Hugh Dancy, Joan Cusack, John Goo...</td>\n",
       "      <td>United States</td>\n",
       "      <td>September 17, 2021</td>\n",
       "      <td>2009</td>\n",
       "      <td>PG</td>\n",
       "      <td>106 min</td>\n",
       "      <td>Comedy, Romance, Romantic Comedy</td>\n",
       "      <td>Becky writes a personal finance column en rout...</td>\n",
       "    </tr>\n",
       "  </tbody>\n",
       "</table>\n",
       "</div>"
      ],
      "text/plain": [
       "  show_id     type                           title      director  \\\n",
       "1      s2    Movie                  Spooky Buddies  Robert Vince   \n",
       "2      s3    Movie          The Fault in Our Stars    Josh Boone   \n",
       "3      s4  TV Show                 Dog: Impossible           NaN   \n",
       "4      s5  TV Show  Spidey And His Amazing Friends           NaN   \n",
       "6      s7    Movie     Confessions of a Shopaholic    P.J. Hogan   \n",
       "\n",
       "                                                cast                country  \\\n",
       "1  Tucker Albrizzi, Diedrich Bader, Ameko Eks Mas...  United States, Canada   \n",
       "2  Shailene Woodley, Ansel Elgort, Laura Dern, Sa...          United States   \n",
       "3                                       Matt Beisner          United States   \n",
       "4  Benjamin Valic, Lily Sanfelippo, Jakari Fraser...          United States   \n",
       "6  Isla Fisher, Hugh Dancy, Joan Cusack, John Goo...          United States   \n",
       "\n",
       "           date_added  release_year rating   duration  \\\n",
       "1  September 24, 2021          2011      G     93 min   \n",
       "2  September 24, 2021          2014  PG-13    127 min   \n",
       "3  September 22, 2021          2019  TV-PG  2 Seasons   \n",
       "4  September 22, 2021          2021   TV-Y   1 Season   \n",
       "6  September 17, 2021          2009     PG    106 min   \n",
       "\n",
       "                              listed_in  \\\n",
       "1                 Comedy, Fantasy, Kids   \n",
       "2         Coming of Age, Drama, Romance   \n",
       "3  Animals & Nature, Docuseries, Family   \n",
       "4     Action-Adventure, Animation, Kids   \n",
       "6      Comedy, Romance, Romantic Comedy   \n",
       "\n",
       "                                         description  \n",
       "1  The puppies go on a spooky adventure through a...  \n",
       "2  Hazel and Gus share a love that sweeps them on...  \n",
       "3  Matt Beisner uses unique approaches to modifyi...  \n",
       "4  Spidey teams up with pals to become The Spidey...  \n",
       "6  Becky writes a personal finance column en rout...  "
      ]
     },
     "execution_count": 7,
     "metadata": {},
     "output_type": "execute_result"
    }
   ],
   "source": [
    "df.dropna(subset=['country'], inplace=True)\n",
    "df.head()"
   ]
  },
  {
   "cell_type": "code",
   "execution_count": 8,
   "id": "c87964a2-5fb1-4e70-a73d-c2419a9ea4a5",
   "metadata": {},
   "outputs": [
    {
     "data": {
      "text/html": [
       "<div>\n",
       "<style scoped>\n",
       "    .dataframe tbody tr th:only-of-type {\n",
       "        vertical-align: middle;\n",
       "    }\n",
       "\n",
       "    .dataframe tbody tr th {\n",
       "        vertical-align: top;\n",
       "    }\n",
       "\n",
       "    .dataframe thead th {\n",
       "        text-align: right;\n",
       "    }\n",
       "</style>\n",
       "<table border=\"1\" class=\"dataframe\">\n",
       "  <thead>\n",
       "    <tr style=\"text-align: right;\">\n",
       "      <th></th>\n",
       "      <th>release_year</th>\n",
       "    </tr>\n",
       "  </thead>\n",
       "  <tbody>\n",
       "    <tr>\n",
       "      <th>count</th>\n",
       "      <td>1193.000000</td>\n",
       "    </tr>\n",
       "    <tr>\n",
       "      <th>mean</th>\n",
       "      <td>2000.119866</td>\n",
       "    </tr>\n",
       "    <tr>\n",
       "      <th>std</th>\n",
       "      <td>22.748624</td>\n",
       "    </tr>\n",
       "    <tr>\n",
       "      <th>min</th>\n",
       "      <td>1928.000000</td>\n",
       "    </tr>\n",
       "    <tr>\n",
       "      <th>25%</th>\n",
       "      <td>1996.000000</td>\n",
       "    </tr>\n",
       "    <tr>\n",
       "      <th>50%</th>\n",
       "      <td>2008.000000</td>\n",
       "    </tr>\n",
       "    <tr>\n",
       "      <th>75%</th>\n",
       "      <td>2016.000000</td>\n",
       "    </tr>\n",
       "    <tr>\n",
       "      <th>max</th>\n",
       "      <td>2021.000000</td>\n",
       "    </tr>\n",
       "  </tbody>\n",
       "</table>\n",
       "</div>"
      ],
      "text/plain": [
       "       release_year\n",
       "count   1193.000000\n",
       "mean    2000.119866\n",
       "std       22.748624\n",
       "min     1928.000000\n",
       "25%     1996.000000\n",
       "50%     2008.000000\n",
       "75%     2016.000000\n",
       "max     2021.000000"
      ]
     },
     "execution_count": 8,
     "metadata": {},
     "output_type": "execute_result"
    }
   ],
   "source": [
    "df.describe()"
   ]
  },
  {
   "cell_type": "code",
   "execution_count": 9,
   "id": "07ef5085-b7ad-4efa-9503-ff0168e82f6f",
   "metadata": {},
   "outputs": [
    {
     "name": "stdout",
     "output_type": "stream",
     "text": [
      "<class 'pandas.core.frame.DataFrame'>\n",
      "Index: 1193 entries, 1 to 1367\n",
      "Data columns (total 12 columns):\n",
      " #   Column        Non-Null Count  Dtype \n",
      "---  ------        --------------  ----- \n",
      " 0   show_id       1193 non-null   object\n",
      " 1   type          1193 non-null   object\n",
      " 2   title         1193 non-null   object\n",
      " 3   director      877 non-null    object\n",
      " 4   cast          1067 non-null   object\n",
      " 5   country       1193 non-null   object\n",
      " 6   date_added    1190 non-null   object\n",
      " 7   release_year  1193 non-null   int64 \n",
      " 8   rating        1193 non-null   object\n",
      " 9   duration      1193 non-null   object\n",
      " 10  listed_in     1193 non-null   object\n",
      " 11  description   1193 non-null   object\n",
      "dtypes: int64(1), object(11)\n",
      "memory usage: 121.2+ KB\n"
     ]
    }
   ],
   "source": [
    "df.info()"
   ]
  },
  {
   "cell_type": "code",
   "execution_count": 10,
   "id": "90243eb7-2de4-4b4f-951a-55e6e3191b7e",
   "metadata": {},
   "outputs": [
    {
     "data": {
      "image/png": "[encoded data removed]",
      "text/plain": [
       "<Figure size 500x500 with 1 Axes>"
      ]
     },
     "metadata": {},
     "output_type": "display_data"
    }
   ],
   "source": [
    "df.hist(bins=100, grid=False, figsize=(5,5));"
   ]
  },
  {
   "cell_type": "code",
   "execution_count": 11,
   "id": "4083dfff-bc6e-4803-bc79-c2c9e495920a",
   "metadata": {},
   "outputs": [
    {
     "data": {
      "image/png": "[encoded data removed]",
      "text/plain": [
       "<Figure size 800x600 with 1 Axes>"
      ]
     },
     "metadata": {},
     "output_type": "display_data"
    }
   ],
   "source": [
    "df.type.value_counts().plot(kind='pie', figsize=(8,6))\n",
    "plt.legend(['Movie', 'TV Show']);"
   ]
  },
  {
   "cell_type": "code",
   "execution_count": 12,
   "id": "3a2248f1-756a-4082-823c-5d099cda9556",
   "metadata": {},
   "outputs": [
    {
     "data": {
      "text/html": [
       "<div>\n",
       "<style scoped>\n",
       "    .dataframe tbody tr th:only-of-type {\n",
       "        vertical-align: middle;\n",
       "    }\n",
       "\n",
       "    .dataframe tbody tr th {\n",
       "        vertical-align: top;\n",
       "    }\n",
       "\n",
       "    .dataframe thead th {\n",
       "        text-align: right;\n",
       "    }\n",
       "</style>\n",
       "<table border=\"1\" class=\"dataframe\">\n",
       "  <thead>\n",
       "    <tr style=\"text-align: right;\">\n",
       "      <th>type</th>\n",
       "      <th>Movie</th>\n",
       "    </tr>\n",
       "    <tr>\n",
       "      <th>director</th>\n",
       "      <th></th>\n",
       "    </tr>\n",
       "  </thead>\n",
       "  <tbody>\n",
       "    <tr>\n",
       "      <th>Aaron Blaise, Robert Walker</th>\n",
       "      <td>1</td>\n",
       "    </tr>\n",
       "    <tr>\n",
       "      <th>Adam Shankman</th>\n",
       "      <td>3</td>\n",
       "    </tr>\n",
       "    <tr>\n",
       "      <th>Adam Stein, Zach Lipovsky</th>\n",
       "      <td>1</td>\n",
       "    </tr>\n",
       "    <tr>\n",
       "      <th>Alan Barillaro</th>\n",
       "      <td>1</td>\n",
       "    </tr>\n",
       "    <tr>\n",
       "      <th>Alan Shapiro</th>\n",
       "      <td>1</td>\n",
       "    </tr>\n",
       "    <tr>\n",
       "      <th>...</th>\n",
       "      <td>...</td>\n",
       "    </tr>\n",
       "    <tr>\n",
       "      <th>Xavier Koller</th>\n",
       "      <td>1</td>\n",
       "    </tr>\n",
       "    <tr>\n",
       "      <th>Zak Knutson</th>\n",
       "      <td>1</td>\n",
       "    </tr>\n",
       "    <tr>\n",
       "      <th>Zhong Yu</th>\n",
       "      <td>1</td>\n",
       "    </tr>\n",
       "    <tr>\n",
       "      <th>Érik Canuel</th>\n",
       "      <td>1</td>\n",
       "    </tr>\n",
       "    <tr>\n",
       "      <th>朱家欣 , 钟智行</th>\n",
       "      <td>1</td>\n",
       "    </tr>\n",
       "  </tbody>\n",
       "</table>\n",
       "<p>539 rows × 1 columns</p>\n",
       "</div>"
      ],
      "text/plain": [
       "type                         Movie\n",
       "director                          \n",
       "Aaron Blaise, Robert Walker      1\n",
       "Adam Shankman                    3\n",
       "Adam Stein, Zach Lipovsky        1\n",
       "Alan Barillaro                   1\n",
       "Alan Shapiro                     1\n",
       "...                            ...\n",
       "Xavier Koller                    1\n",
       "Zak Knutson                      1\n",
       "Zhong Yu                         1\n",
       "Érik Canuel                      1\n",
       "朱家欣 , 钟智行                        1\n",
       "\n",
       "[539 rows x 1 columns]"
      ]
     },
     "execution_count": 12,
     "metadata": {},
     "output_type": "execute_result"
    }
   ],
   "source": [
    "pd.crosstab(df.director, df.type)"
   ]
  },
  {
   "cell_type": "code",
   "execution_count": 13,
   "id": "38f6c475-39a8-4ea5-bb21-413a488f604b",
   "metadata": {},
   "outputs": [
    {
     "data": {
      "image/png": "[encoded data removed]",
      "text/plain": [
       "<Figure size 640x480 with 1 Axes>"
      ]
     },
     "metadata": {},
     "output_type": "display_data"
    }
   ],
   "source": [
    "sns.countplot(x='type', data=df)\n",
    "plt.title(\"Count of content type\")\n",
    "plt.xlabel(\"Type\");"
   ]
  },
  {
   "cell_type": "code",
   "execution_count": 14,
   "id": "51d1e2ff-ca8f-4647-893a-f51d4e728204",
   "metadata": {},
   "outputs": [
    {
     "data": {
      "text/plain": [
       "director\n",
       "Jack Hannah                                 17\n",
       "Paul Hoen                                   16\n",
       "John Lasseter                               15\n",
       "Robert Stevenson                            12\n",
       "Charles Nichols                             12\n",
       "                                            ..\n",
       "Mark Andrews, Brenda Chapman                 1\n",
       "Bud Luckey                                   1\n",
       "Chris Williams, Byron Howard                 1\n",
       "Rupert Wainwright                            1\n",
       "John Musker, Ron Clements, Dave Michener     1\n",
       "Name: count, Length: 539, dtype: int64"
      ]
     },
     "execution_count": 14,
     "metadata": {},
     "output_type": "execute_result"
    }
   ],
   "source": [
    "df.director.value_counts()"
   ]
  },
  {
   "cell_type": "code",
   "execution_count": 15,
   "id": "e4c3798d-6600-4610-ac02-4af9ead99292",
   "metadata": {
    "scrolled": true
   },
   "outputs": [
    {
     "data": {
      "text/plain": [
       "country\n",
       "United States                                      976\n",
       "United States, Canada                               28\n",
       "United Kingdom                                      23\n",
       "United States, United Kingdom                       19\n",
       "Canada, United States                               17\n",
       "                                                  ... \n",
       "United Kingdom, United States, Canada                1\n",
       "United States, Germany, Ireland, United Kingdom      1\n",
       "United States, United Kingdom, South Africa          1\n",
       "United Kingdom, United States, Ireland               1\n",
       "New Zealand, United States                           1\n",
       "Name: count, Length: 87, dtype: int64"
      ]
     },
     "execution_count": 15,
     "metadata": {},
     "output_type": "execute_result"
    }
   ],
   "source": [
    "df.country.value_counts()"
   ]
  },
  {
   "cell_type": "code",
   "execution_count": 16,
   "id": "a88e8dcb-89c1-45c7-b858-c6f4665517cc",
   "metadata": {},
   "outputs": [
    {
     "data": {
      "image/png": "[encoded data removed]",
      "text/plain": [
       "<Figure size 640x480 with 1 Axes>"
      ]
     },
     "metadata": {},
     "output_type": "display_data"
    }
   ],
   "source": [
    "plt.scatter(df['type'].head(100), df['release_year'].head(100))\n",
    "\n",
    "plt.title(\"Scatter Plot\")\n",
    "plt.xlabel('type')\n",
    "plt.ylabel('release_year')\n",
    "\n",
    "plt.show()"
   ]
  },
  {
   "cell_type": "code",
   "execution_count": 17,
   "id": "e5d5c1b6-430f-46fc-a565-0849c445f028",
   "metadata": {},
   "outputs": [
    {
     "name": "stderr",
     "output_type": "stream",
     "text": [
      "C:\\Users\\kp210\\Downloads\\Anaconda\\Lib\\site-packages\\seaborn\\_oldcore.py:1119: FutureWarning: use_inf_as_na option is deprecated and will be removed in a future version. Convert inf values to NaN before operating instead.\n",
      "  with pd.option_context('mode.use_inf_as_na', True):\n"
     ]
    },
    {
     "data": {
      "image/png": "[encoded data removed]",
      "text/plain": [
       "<Figure size 500x500 with 1 Axes>"
      ]
     },
     "metadata": {},
     "output_type": "display_data"
    }
   ],
   "source": [
    "sns.displot(x='release_year', data=df, bins=30, kde=True);"
   ]
  },
  {
   "cell_type": "code",
   "execution_count": 18,
   "id": "44e51fb8-c195-4e3a-8a1c-bba4ecfeb03d",
   "metadata": {},
   "outputs": [
    {
     "name": "stderr",
     "output_type": "stream",
     "text": [
      "C:\\Users\\kp210\\Downloads\\Anaconda\\Lib\\site-packages\\seaborn\\_oldcore.py:1119: FutureWarning: use_inf_as_na option is deprecated and will be removed in a future version. Convert inf values to NaN before operating instead.\n",
      "  with pd.option_context('mode.use_inf_as_na', True):\n"
     ]
    },
    {
     "data": {
      "image/png": "[encoded data removed]",
      "text/plain": [
       "<Figure size 500x500 with 1 Axes>"
      ]
     },
     "metadata": {},
     "output_type": "display_data"
    }
   ],
   "source": [
    "sns.displot(x='type', data=df,bins=30, kde=True, color='green');"
   ]
  },
  {
   "cell_type": "code",
   "execution_count": 19,
   "id": "b31fe593-fd04-4cd8-94f0-1f4a4751d2c1",
   "metadata": {},
   "outputs": [
    {
     "data": {
      "image/png": "[encoded data removed]",
      "text/plain": [
       "<Figure size 640x480 with 1 Axes>"
      ]
     },
     "metadata": {},
     "output_type": "display_data"
    }
   ],
   "source": [
    "sns.countplot(x='release_year', data=df.head());"
   ]
  },
  {
   "cell_type": "code",
   "execution_count": 20,
   "id": "45976bf4-be57-46eb-b22e-f614012ca5e0",
   "metadata": {},
   "outputs": [
    {
     "data": {
      "image/png": "[encoded data removed]",
      "text/plain": [
       "<Figure size 640x480 with 1 Axes>"
      ]
     },
     "metadata": {},
     "output_type": "display_data"
    }
   ],
   "source": [
    "sns.countplot( y='director', data=df.head(10));"
   ]
  },
  {
   "cell_type": "code",
   "execution_count": 21,
   "id": "7239e28f-34bd-4010-a6be-f43b8d1bb99d",
   "metadata": {},
   "outputs": [
    {
     "name": "stdout",
     "output_type": "stream",
     "text": [
      "     show_id   type                                        title  \\\n",
      "1         s2  Movie                               Spooky Buddies   \n",
      "2         s3  Movie                       The Fault in Our Stars   \n",
      "6         s7  Movie                  Confessions of a Shopaholic   \n",
      "18       s19  Movie  Pirates of the Caribbean: On Stranger Tides   \n",
      "19       s20  Movie                             Twenty Something   \n",
      "...      ...    ...                                          ...   \n",
      "1359   s1360  Movie     Lady and the Tramp II: Scamp's Adventure   \n",
      "1361   s1362  Movie                     The Cat from Outer Space   \n",
      "1362   s1363  Movie                    The Great Mouse Detective   \n",
      "1363   s1364  Movie                       The Sword in the Stone   \n",
      "1364   s1365  Movie                              Those Calloways   \n",
      "\n",
      "                                      director  \\\n",
      "1                                 Robert Vince   \n",
      "2                                   Josh Boone   \n",
      "6                                   P.J. Hogan   \n",
      "18                                Rob Marshall   \n",
      "19                               Aphton Corbin   \n",
      "...                                        ...   \n",
      "1359                            Darrell Rooney   \n",
      "1361                              Norman Tokar   \n",
      "1362  John Musker, Ron Clements, Dave Michener   \n",
      "1363                       Wolfgang Reitherman   \n",
      "1364                              Norman Tokar   \n",
      "\n",
      "                                                   cast  \\\n",
      "1     Tucker Albrizzi, Diedrich Bader, Ameko Eks Mas...   \n",
      "2     Shailene Woodley, Ansel Elgort, Laura Dern, Sa...   \n",
      "6     Isla Fisher, Hugh Dancy, Joan Cusack, John Goo...   \n",
      "18    Johnny Depp, Penélope Cruz, Ian McShane, Geoff...   \n",
      "19    Kaylin Price, Ariana Brown, Aliyah Taylor, Jan...   \n",
      "...                                                 ...   \n",
      "1359  Scott Wolf, Alyssa Milano, Chazz Palminteri, J...   \n",
      "1361  Ken Berry, Sandy Duncan, Harry Morgan, Roddy M...   \n",
      "1362  Vincent Price, Barrie Ingham, Val Bettin, Susa...   \n",
      "1363  Sebastian Cabot, Karl Swenson, Rickie Sorensen...   \n",
      "1364  Brian Keith, Vera Miles, Brandon de Wilde, Wal...   \n",
      "\n",
      "                            country          date_added  release_year rating  \\\n",
      "1             United States, Canada  September 24, 2021          2011      G   \n",
      "2                     United States  September 24, 2021          2014  PG-13   \n",
      "6                     United States  September 17, 2021          2009     PG   \n",
      "18    United States, United Kingdom  September 10, 2021          2011  PG-13   \n",
      "19                    United States  September 10, 2021          2021     PG   \n",
      "...                             ...                 ...           ...    ...   \n",
      "1359       United States, Australia     October 1, 2019          2001      G   \n",
      "1361                  United States     October 1, 2019          1978      G   \n",
      "1362                  United States     October 1, 2019          1986      G   \n",
      "1363                  United States     October 1, 2019          1963      G   \n",
      "1364                  United States     October 1, 2019          1965     PG   \n",
      "\n",
      "     duration                                   listed_in  \\\n",
      "1      93 min                       Comedy, Fantasy, Kids   \n",
      "2     127 min               Coming of Age, Drama, Romance   \n",
      "6     106 min            Comedy, Romance, Romantic Comedy   \n",
      "18    140 min                   Action-Adventure, Fantasy   \n",
      "19     11 min                           Animation, Family   \n",
      "...       ...                                         ...   \n",
      "1359   73 min  Action-Adventure, Animation, Coming of Age   \n",
      "1361  104 min             Comedy, Family, Science Fiction   \n",
      "1362   75 min                  Animation, Family, Mystery   \n",
      "1363   80 min         Action-Adventure, Animation, Comedy   \n",
      "1364  132 min             Animals & Nature, Drama, Family   \n",
      "\n",
      "                                            description  \n",
      "1     The puppies go on a spooky adventure through a...  \n",
      "2     Hazel and Gus share a love that sweeps them on...  \n",
      "6     Becky writes a personal finance column en rout...  \n",
      "18    A woman from his past uses Jack to help find t...  \n",
      "19    Adulting is hard. One day you're nailing it, t...  \n",
      "...                                                 ...  \n",
      "1359  Itching for freedom, Lady's pup Scamp joins up...  \n",
      "1361  A physicist tries to help an alien cat after i...  \n",
      "1362  A super-sleuth mouse must solve a toy maker's ...  \n",
      "1363  Merlin trains a young orphan who's destined to...  \n",
      "1364  A strong-willed family struggles to establish ...  \n",
      "\n",
      "[877 rows x 12 columns]\n"
     ]
    },
    {
     "data": {
      "text/html": [
       "<div>\n",
       "<style scoped>\n",
       "    .dataframe tbody tr th:only-of-type {\n",
       "        vertical-align: middle;\n",
       "    }\n",
       "\n",
       "    .dataframe tbody tr th {\n",
       "        vertical-align: top;\n",
       "    }\n",
       "\n",
       "    .dataframe thead th {\n",
       "        text-align: right;\n",
       "    }\n",
       "</style>\n",
       "<table border=\"1\" class=\"dataframe\">\n",
       "  <thead>\n",
       "    <tr style=\"text-align: right;\">\n",
       "      <th></th>\n",
       "      <th>show_id</th>\n",
       "      <th>type</th>\n",
       "      <th>title</th>\n",
       "      <th>director</th>\n",
       "      <th>cast</th>\n",
       "      <th>country</th>\n",
       "      <th>date_added</th>\n",
       "      <th>release_year</th>\n",
       "      <th>rating</th>\n",
       "      <th>duration</th>\n",
       "      <th>listed_in</th>\n",
       "      <th>description</th>\n",
       "    </tr>\n",
       "  </thead>\n",
       "  <tbody>\n",
       "    <tr>\n",
       "      <th>1</th>\n",
       "      <td>s2</td>\n",
       "      <td>Movie</td>\n",
       "      <td>Spooky Buddies</td>\n",
       "      <td>Robert Vince</td>\n",
       "      <td>Tucker Albrizzi, Diedrich Bader, Ameko Eks Mas...</td>\n",
       "      <td>United States, Canada</td>\n",
       "      <td>September 24, 2021</td>\n",
       "      <td>2011</td>\n",
       "      <td>G</td>\n",
       "      <td>93 min</td>\n",
       "      <td>Comedy, Fantasy, Kids</td>\n",
       "      <td>The puppies go on a spooky adventure through a...</td>\n",
       "    </tr>\n",
       "    <tr>\n",
       "      <th>2</th>\n",
       "      <td>s3</td>\n",
       "      <td>Movie</td>\n",
       "      <td>The Fault in Our Stars</td>\n",
       "      <td>Josh Boone</td>\n",
       "      <td>Shailene Woodley, Ansel Elgort, Laura Dern, Sa...</td>\n",
       "      <td>United States</td>\n",
       "      <td>September 24, 2021</td>\n",
       "      <td>2014</td>\n",
       "      <td>PG-13</td>\n",
       "      <td>127 min</td>\n",
       "      <td>Coming of Age, Drama, Romance</td>\n",
       "      <td>Hazel and Gus share a love that sweeps them on...</td>\n",
       "    </tr>\n",
       "    <tr>\n",
       "      <th>6</th>\n",
       "      <td>s7</td>\n",
       "      <td>Movie</td>\n",
       "      <td>Confessions of a Shopaholic</td>\n",
       "      <td>P.J. Hogan</td>\n",
       "      <td>Isla Fisher, Hugh Dancy, Joan Cusack, John Goo...</td>\n",
       "      <td>United States</td>\n",
       "      <td>September 17, 2021</td>\n",
       "      <td>2009</td>\n",
       "      <td>PG</td>\n",
       "      <td>106 min</td>\n",
       "      <td>Comedy, Romance, Romantic Comedy</td>\n",
       "      <td>Becky writes a personal finance column en rout...</td>\n",
       "    </tr>\n",
       "    <tr>\n",
       "      <th>18</th>\n",
       "      <td>s19</td>\n",
       "      <td>Movie</td>\n",
       "      <td>Pirates of the Caribbean: On Stranger Tides</td>\n",
       "      <td>Rob Marshall</td>\n",
       "      <td>Johnny Depp, Penélope Cruz, Ian McShane, Geoff...</td>\n",
       "      <td>United States, United Kingdom</td>\n",
       "      <td>September 10, 2021</td>\n",
       "      <td>2011</td>\n",
       "      <td>PG-13</td>\n",
       "      <td>140 min</td>\n",
       "      <td>Action-Adventure, Fantasy</td>\n",
       "      <td>A woman from his past uses Jack to help find t...</td>\n",
       "    </tr>\n",
       "    <tr>\n",
       "      <th>19</th>\n",
       "      <td>s20</td>\n",
       "      <td>Movie</td>\n",
       "      <td>Twenty Something</td>\n",
       "      <td>Aphton Corbin</td>\n",
       "      <td>Kaylin Price, Ariana Brown, Aliyah Taylor, Jan...</td>\n",
       "      <td>United States</td>\n",
       "      <td>September 10, 2021</td>\n",
       "      <td>2021</td>\n",
       "      <td>PG</td>\n",
       "      <td>11 min</td>\n",
       "      <td>Animation, Family</td>\n",
       "      <td>Adulting is hard. One day you're nailing it, t...</td>\n",
       "    </tr>\n",
       "  </tbody>\n",
       "</table>\n",
       "</div>"
      ],
      "text/plain": [
       "   show_id   type                                        title       director  \\\n",
       "1       s2  Movie                               Spooky Buddies   Robert Vince   \n",
       "2       s3  Movie                       The Fault in Our Stars     Josh Boone   \n",
       "6       s7  Movie                  Confessions of a Shopaholic     P.J. Hogan   \n",
       "18     s19  Movie  Pirates of the Caribbean: On Stranger Tides   Rob Marshall   \n",
       "19     s20  Movie                             Twenty Something  Aphton Corbin   \n",
       "\n",
       "                                                 cast  \\\n",
       "1   Tucker Albrizzi, Diedrich Bader, Ameko Eks Mas...   \n",
       "2   Shailene Woodley, Ansel Elgort, Laura Dern, Sa...   \n",
       "6   Isla Fisher, Hugh Dancy, Joan Cusack, John Goo...   \n",
       "18  Johnny Depp, Penélope Cruz, Ian McShane, Geoff...   \n",
       "19  Kaylin Price, Ariana Brown, Aliyah Taylor, Jan...   \n",
       "\n",
       "                          country          date_added  release_year rating  \\\n",
       "1           United States, Canada  September 24, 2021          2011      G   \n",
       "2                   United States  September 24, 2021          2014  PG-13   \n",
       "6                   United States  September 17, 2021          2009     PG   \n",
       "18  United States, United Kingdom  September 10, 2021          2011  PG-13   \n",
       "19                  United States  September 10, 2021          2021     PG   \n",
       "\n",
       "   duration                         listed_in  \\\n",
       "1    93 min             Comedy, Fantasy, Kids   \n",
       "2   127 min     Coming of Age, Drama, Romance   \n",
       "6   106 min  Comedy, Romance, Romantic Comedy   \n",
       "18  140 min         Action-Adventure, Fantasy   \n",
       "19   11 min                 Animation, Family   \n",
       "\n",
       "                                          description  \n",
       "1   The puppies go on a spooky adventure through a...  \n",
       "2   Hazel and Gus share a love that sweeps them on...  \n",
       "6   Becky writes a personal finance column en rout...  \n",
       "18  A woman from his past uses Jack to help find t...  \n",
       "19  Adulting is hard. One day you're nailing it, t...  "
      ]
     },
     "execution_count": 21,
     "metadata": {},
     "output_type": "execute_result"
    }
   ],
   "source": [
    "df.dropna(subset=['director'], inplace=True)\n",
    "print(df)\n",
    "df.head()"
   ]
  },
  {
   "cell_type": "code",
   "execution_count": 22,
   "id": "b242dbfc-f5ff-4c7b-88a8-05bbdec39129",
   "metadata": {},
   "outputs": [
    {
     "data": {
      "image/png": "[encoded data removed]",
      "text/plain": [
       "<Figure size 640x480 with 1 Axes>"
      ]
     },
     "metadata": {},
     "output_type": "display_data"
    }
   ],
   "source": [
    "sns.countplot( y='director', data=df.head(10));"
   ]
  },
  {
   "cell_type": "code",
   "execution_count": null,
   "id": "3074308a-2745-4813-a28e-e648aca1c43f",
   "metadata": {},
   "outputs": [],
   "source": []
  }
 ],
 "metadata": {
  "kernelspec": {
   "display_name": "Python 3 (ipykernel)",
   "language": "python",
   "name": "python3"
  },
  "language_info": {
   "codemirror_mode": {
    "name": "ipython",
    "version": 3
   },
   "file_extension": ".py",
   "mimetype": "text/x-python",
   "name": "python",
   "nbconvert_exporter": "python",
   "pygments_lexer": "ipython3",
   "version": "3.11.7"
  }
 },
 "nbformat": 4,
 "nbformat_minor": 5
}
